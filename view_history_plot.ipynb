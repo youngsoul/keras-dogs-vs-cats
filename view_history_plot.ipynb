{
 "cells": [
  {
   "cell_type": "code",
   "execution_count": 1,
   "id": "58c71baf",
   "metadata": {},
   "outputs": [],
   "source": [
    "import pandas as pd"
   ]
  },
  {
   "cell_type": "code",
   "execution_count": 11,
   "id": "76384db9",
   "metadata": {},
   "outputs": [],
   "source": [
    "losses = pd.read_csv(\"./history/fast_feature_extraction_cell_images.csv\")\n",
    "# losses = pd.read_csv(\"./history/convnet_from_scratch.csv\")\n",
    "\n",
    "\n",
    "\n"
   ]
  },
  {
   "cell_type": "code",
   "execution_count": 12,
   "id": "f575b425",
   "metadata": {},
   "outputs": [
    {
     "data": {
      "text/html": [
       "<div>\n",
       "<style scoped>\n",
       "    .dataframe tbody tr th:only-of-type {\n",
       "        vertical-align: middle;\n",
       "    }\n",
       "\n",
       "    .dataframe tbody tr th {\n",
       "        vertical-align: top;\n",
       "    }\n",
       "\n",
       "    .dataframe thead th {\n",
       "        text-align: right;\n",
       "    }\n",
       "</style>\n",
       "<table border=\"1\" class=\"dataframe\">\n",
       "  <thead>\n",
       "    <tr style=\"text-align: right;\">\n",
       "      <th></th>\n",
       "      <th>Unnamed: 0</th>\n",
       "      <th>loss</th>\n",
       "      <th>accuracy</th>\n",
       "      <th>val_loss</th>\n",
       "      <th>val_accuracy</th>\n",
       "    </tr>\n",
       "  </thead>\n",
       "  <tbody>\n",
       "    <tr>\n",
       "      <th>0</th>\n",
       "      <td>0</td>\n",
       "      <td>9.421461</td>\n",
       "      <td>0.914559</td>\n",
       "      <td>2.090014</td>\n",
       "      <td>0.964336</td>\n",
       "    </tr>\n",
       "    <tr>\n",
       "      <th>1</th>\n",
       "      <td>1</td>\n",
       "      <td>1.949584</td>\n",
       "      <td>0.947864</td>\n",
       "      <td>0.608744</td>\n",
       "      <td>0.969545</td>\n",
       "    </tr>\n",
       "    <tr>\n",
       "      <th>2</th>\n",
       "      <td>2</td>\n",
       "      <td>0.772088</td>\n",
       "      <td>0.949567</td>\n",
       "      <td>0.447555</td>\n",
       "      <td>0.967141</td>\n",
       "    </tr>\n",
       "    <tr>\n",
       "      <th>3</th>\n",
       "      <td>3</td>\n",
       "      <td>0.675211</td>\n",
       "      <td>0.956879</td>\n",
       "      <td>0.704156</td>\n",
       "      <td>0.961731</td>\n",
       "    </tr>\n",
       "    <tr>\n",
       "      <th>4</th>\n",
       "      <td>4</td>\n",
       "      <td>0.708924</td>\n",
       "      <td>0.956328</td>\n",
       "      <td>0.917332</td>\n",
       "      <td>0.958525</td>\n",
       "    </tr>\n",
       "    <tr>\n",
       "      <th>5</th>\n",
       "      <td>5</td>\n",
       "      <td>0.669600</td>\n",
       "      <td>0.962188</td>\n",
       "      <td>0.733750</td>\n",
       "      <td>0.959928</td>\n",
       "    </tr>\n",
       "    <tr>\n",
       "      <th>6</th>\n",
       "      <td>6</td>\n",
       "      <td>0.713672</td>\n",
       "      <td>0.963139</td>\n",
       "      <td>0.891957</td>\n",
       "      <td>0.964937</td>\n",
       "    </tr>\n",
       "    <tr>\n",
       "      <th>7</th>\n",
       "      <td>7</td>\n",
       "      <td>0.716483</td>\n",
       "      <td>0.966094</td>\n",
       "      <td>0.847370</td>\n",
       "      <td>0.967341</td>\n",
       "    </tr>\n",
       "    <tr>\n",
       "      <th>8</th>\n",
       "      <td>8</td>\n",
       "      <td>0.676704</td>\n",
       "      <td>0.968047</td>\n",
       "      <td>1.581389</td>\n",
       "      <td>0.938489</td>\n",
       "    </tr>\n",
       "    <tr>\n",
       "      <th>9</th>\n",
       "      <td>9</td>\n",
       "      <td>0.704831</td>\n",
       "      <td>0.970151</td>\n",
       "      <td>1.205942</td>\n",
       "      <td>0.963534</td>\n",
       "    </tr>\n",
       "  </tbody>\n",
       "</table>\n",
       "</div>"
      ],
      "text/plain": [
       "   Unnamed: 0      loss  accuracy  val_loss  val_accuracy\n",
       "0           0  9.421461  0.914559  2.090014      0.964336\n",
       "1           1  1.949584  0.947864  0.608744      0.969545\n",
       "2           2  0.772088  0.949567  0.447555      0.967141\n",
       "3           3  0.675211  0.956879  0.704156      0.961731\n",
       "4           4  0.708924  0.956328  0.917332      0.958525\n",
       "5           5  0.669600  0.962188  0.733750      0.959928\n",
       "6           6  0.713672  0.963139  0.891957      0.964937\n",
       "7           7  0.716483  0.966094  0.847370      0.967341\n",
       "8           8  0.676704  0.968047  1.581389      0.938489\n",
       "9           9  0.704831  0.970151  1.205942      0.963534"
      ]
     },
     "execution_count": 12,
     "metadata": {},
     "output_type": "execute_result"
    }
   ],
   "source": [
    "losses.head(10)\n",
    "\n"
   ]
  },
  {
   "cell_type": "code",
   "execution_count": 13,
   "id": "29d0443b",
   "metadata": {},
   "outputs": [
    {
     "data": {
      "text/html": [
       "<div>\n",
       "<style scoped>\n",
       "    .dataframe tbody tr th:only-of-type {\n",
       "        vertical-align: middle;\n",
       "    }\n",
       "\n",
       "    .dataframe tbody tr th {\n",
       "        vertical-align: top;\n",
       "    }\n",
       "\n",
       "    .dataframe thead th {\n",
       "        text-align: right;\n",
       "    }\n",
       "</style>\n",
       "<table border=\"1\" class=\"dataframe\">\n",
       "  <thead>\n",
       "    <tr style=\"text-align: right;\">\n",
       "      <th></th>\n",
       "      <th>Unnamed: 0</th>\n",
       "      <th>loss</th>\n",
       "      <th>accuracy</th>\n",
       "      <th>val_loss</th>\n",
       "      <th>val_accuracy</th>\n",
       "    </tr>\n",
       "  </thead>\n",
       "  <tbody>\n",
       "    <tr>\n",
       "      <th>25</th>\n",
       "      <td>25</td>\n",
       "      <td>0.724592</td>\n",
       "      <td>0.980818</td>\n",
       "      <td>2.539791</td>\n",
       "      <td>0.963134</td>\n",
       "    </tr>\n",
       "    <tr>\n",
       "      <th>26</th>\n",
       "      <td>26</td>\n",
       "      <td>0.771686</td>\n",
       "      <td>0.981369</td>\n",
       "      <td>4.739857</td>\n",
       "      <td>0.948708</td>\n",
       "    </tr>\n",
       "    <tr>\n",
       "      <th>27</th>\n",
       "      <td>27</td>\n",
       "      <td>0.718127</td>\n",
       "      <td>0.982671</td>\n",
       "      <td>3.066361</td>\n",
       "      <td>0.966139</td>\n",
       "    </tr>\n",
       "    <tr>\n",
       "      <th>28</th>\n",
       "      <td>28</td>\n",
       "      <td>0.759211</td>\n",
       "      <td>0.982671</td>\n",
       "      <td>8.855580</td>\n",
       "      <td>0.866159</td>\n",
       "    </tr>\n",
       "    <tr>\n",
       "      <th>29</th>\n",
       "      <td>29</td>\n",
       "      <td>0.708650</td>\n",
       "      <td>0.982772</td>\n",
       "      <td>2.715503</td>\n",
       "      <td>0.963735</td>\n",
       "    </tr>\n",
       "  </tbody>\n",
       "</table>\n",
       "</div>"
      ],
      "text/plain": [
       "    Unnamed: 0      loss  accuracy  val_loss  val_accuracy\n",
       "25          25  0.724592  0.980818  2.539791      0.963134\n",
       "26          26  0.771686  0.981369  4.739857      0.948708\n",
       "27          27  0.718127  0.982671  3.066361      0.966139\n",
       "28          28  0.759211  0.982671  8.855580      0.866159\n",
       "29          29  0.708650  0.982772  2.715503      0.963735"
      ]
     },
     "execution_count": 13,
     "metadata": {},
     "output_type": "execute_result"
    }
   ],
   "source": [
    "losses.tail()"
   ]
  },
  {
   "cell_type": "code",
   "execution_count": 16,
   "id": "d7bb25de",
   "metadata": {},
   "outputs": [
    {
     "data": {
      "text/plain": [
       "0.9697455167770386"
      ]
     },
     "execution_count": 16,
     "metadata": {},
     "output_type": "execute_result"
    }
   ],
   "source": [
    "losses.val_accuracy.max()"
   ]
  },
  {
   "cell_type": "code",
   "execution_count": 14,
   "id": "6d994473",
   "metadata": {},
   "outputs": [
    {
     "data": {
      "text/plain": [
       "<AxesSubplot:>"
      ]
     },
     "execution_count": 14,
     "metadata": {},
     "output_type": "execute_result"
    },
    {
     "data": {
      "image/png": "[encoded data removed]",
      "text/plain": [
       "<Figure size 432x288 with 1 Axes>"
      ]
     },
     "metadata": {
      "needs_background": "light"
     },
     "output_type": "display_data"
    }
   ],
   "source": [
    "losses[['accuracy', 'val_accuracy']].plot()"
   ]
  },
  {
   "cell_type": "code",
   "execution_count": null,
   "id": "2ad3279c",
   "metadata": {},
   "outputs": [],
   "source": []
  },
  {
   "cell_type": "code",
   "execution_count": 15,
   "id": "74b70889",
   "metadata": {},
   "outputs": [
    {
     "data": {
      "text/plain": [
       "<AxesSubplot:>"
      ]
     },
     "execution_count": 15,
     "metadata": {},
     "output_type": "execute_result"
    },
    {
     "data": {
      "image/png": "[encoded data removed]",
      "text/plain": [
       "<Figure size 432x288 with 1 Axes>"
      ]
     },
     "metadata": {
      "needs_background": "light"
     },
     "output_type": "display_data"
    }
   ],
   "source": [
    "losses[['loss', 'val_loss']].plot()"
   ]
  }
 ],
 "metadata": {
  "kernelspec": {
   "display_name": "Python 3 (ipykernel)",
   "language": "python",
   "name": "python3"
  },
  "language_info": {
   "codemirror_mode": {
    "name": "ipython",
    "version": 3
   },
   "file_extension": ".py",
   "mimetype": "text/x-python",
   "name": "python",
   "nbconvert_exporter": "python",
   "pygments_lexer": "ipython3",
   "version": "3.9.10"
  },
  "toc": {
   "base_numbering": 1,
   "nav_menu": {},
   "number_sections": true,
   "sideBar": true,
   "skip_h1_title": false,
   "title_cell": "Table of Contents",
   "title_sidebar": "Contents",
   "toc_cell": false,
   "toc_position": {},
   "toc_section_display": true,
   "toc_window_display": false
  }
 },
 "nbformat": 4,
 "nbformat_minor": 5
}
